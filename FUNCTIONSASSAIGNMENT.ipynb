{
 "cells": [
  {
   "cell_type": "markdown",
   "id": "8bb57897-99a4-4960-9c47-dbe493cb8de1",
   "metadata": {},
   "source": [
    "## Q1) Q1. Which keyword is used to create a function? Create a function to return a list of odd numbers in the\n",
    "## range of 1 to 25."
   ]
  },
  {
   "cell_type": "markdown",
   "id": "f3b4ca73-e037-4a56-88b2-bf751400647b",
   "metadata": {},
   "source": [
    "##  \"def\"   keyword used to create a functions "
   ]
  },
  {
   "cell_type": "code",
   "execution_count": 1,
   "id": "d707a7c0-5aec-4f29-868d-ee287f26bfff",
   "metadata": {},
   "outputs": [],
   "source": [
    "def oddlist():\n",
    "    oddnum = []\n",
    "    for i in range(1,26):\n",
    "        if i%2!=0:\n",
    "            oddnum.append(i)\n",
    "    return oddnum"
   ]
  },
  {
   "cell_type": "code",
   "execution_count": 4,
   "id": "95ebda41-0a75-4e46-8c79-f5ae7a975c32",
   "metadata": {},
   "outputs": [],
   "source": [
    "## Q2. Why *args and **kwargs is used in some functions? Create a function each for *args and **kwargs to\n",
    "## demonstrate their use."
   ]
  },
  {
   "cell_type": "code",
   "execution_count": 5,
   "id": "4cadcf23-db9d-4483-833e-ab2d8b9ba980",
   "metadata": {},
   "outputs": [],
   "source": [
    "# *args is used to to pass as many values user want to a function without defining that much of variables in the function\n",
    "# **kwargs is used to pass as many key and value associated to the function as arguments without defining that much of variables in the function as arguments"
   ]
  },
  {
   "cell_type": "code",
   "execution_count": 7,
   "id": "b9d8a225-6f6a-4960-85e5-70af2c749dcb",
   "metadata": {},
   "outputs": [
    {
     "name": "stdout",
     "output_type": "stream",
     "text": [
      "10\n",
      "20\n",
      "30\n",
      "40\n",
      "50\n",
      "60\n",
      "70\n",
      "80\n",
      "90\n"
     ]
    }
   ],
   "source": [
    "def argument(*args):\n",
    "    for i in args:\n",
    "        print(i)\n",
    "argument(10,20,30,40,50,60,70,80,90)"
   ]
  },
  {
   "cell_type": "code",
   "execution_count": 11,
   "id": "fefff692-bbbd-4ae1-9823-347658bfd5e2",
   "metadata": {},
   "outputs": [
    {
     "name": "stdout",
     "output_type": "stream",
     "text": [
      "a value associated with it is 10\n",
      "b value associated with it is 15\n",
      "c value associated with it is 20\n",
      "d value associated with it is 25\n",
      "e value associated with it is 30\n",
      "f value associated with it is 35\n",
      "g value associated with it is 40\n",
      "h value associated with it is 45\n",
      "i value associated with it is 50\n",
      "j value associated with it is 55\n"
     ]
    }
   ],
   "source": [
    "def keywardargs(**kwargs):\n",
    "    for key,val in kwargs.items():\n",
    "        print(key,'value associated with it is',val)\n",
    "keywardargs(a=10,b=15,c=20,d=25,e=30,f=35,g=40,h=45,i=50,j=55)"
   ]
  },
  {
   "cell_type": "code",
   "execution_count": 13,
   "id": "eaa5ef5a-b90f-4ab6-8072-7ef89a1dfac1",
   "metadata": {},
   "outputs": [],
   "source": [
    "#Q3. What is an iterator in python? Name the method used to initialise the iterator object and the method used for iteration.iteration. Use these methods to print the first five elements of the given list [2, 4, 6, 8, 10, 12, 14, 16,18,20]"
   ]
  },
  {
   "cell_type": "code",
   "execution_count": 14,
   "id": "0980d915-4562-4181-8876-50074e982d96",
   "metadata": {},
   "outputs": [],
   "source": [
    "#Iterator in Python is an object that is used to iterate over iterable objects like lists, tuples, dicts, and sets. The iterator object is initialized using the iter() method. It uses the next() method for iteration. __next__()"
   ]
  },
  {
   "cell_type": "code",
   "execution_count": 16,
   "id": "aa062b6b-48e6-489c-bd73-0b0a492f4f82",
   "metadata": {},
   "outputs": [
    {
     "name": "stdout",
     "output_type": "stream",
     "text": [
      "2\n",
      "4\n",
      "6\n",
      "8\n",
      "10\n"
     ]
    }
   ],
   "source": [
    "givenlist = [2,4,6,8,10,12,14,16,18,20]\n",
    "for i in range(5):\n",
    "    print(givenlist[i])"
   ]
  },
  {
   "cell_type": "code",
   "execution_count": 18,
   "id": "e531b37c-96cc-490f-9b94-a6fcf182d295",
   "metadata": {},
   "outputs": [],
   "source": [
    "#What is a generator function in python? Why yield keyword is used? Give an example of a generator function."
   ]
  },
  {
   "cell_type": "code",
   "execution_count": 19,
   "id": "7e03ff54-2be0-41c2-a5aa-f429a9349ce8",
   "metadata": {},
   "outputs": [],
   "source": [
    "# A generator-function is defined like a normal function, but whenever it needs to generate a value, it does so with the yield keyword rather than return. If the body of a def contains yield, the function automatically becomes a generator function. "
   ]
  },
  {
   "cell_type": "code",
   "execution_count": 23,
   "id": "4be7bf8c-8e6a-4a28-b396-63b1bbca62b9",
   "metadata": {},
   "outputs": [
    {
     "name": "stdout",
     "output_type": "stream",
     "text": [
      "1\n",
      "2\n"
     ]
    }
   ],
   "source": [
    "def genfunc():\n",
    "    yield 1\n",
    "    yield 2\n",
    "for i in genfunc():\n",
    "    print(i)"
   ]
  },
  {
   "cell_type": "code",
   "execution_count": 24,
   "id": "b7240604-56c6-4e0c-ab8a-ce8da64f303c",
   "metadata": {},
   "outputs": [],
   "source": [
    "#Q5. Create a generator function for prime numbers less than 1000. Use the next() method to print the\n",
    "# first 20 prime numbers."
   ]
  },
  {
   "cell_type": "code",
   "execution_count": 25,
   "id": "07d3488c-efe6-4b98-8c46-4584ffd6c72f",
   "metadata": {},
   "outputs": [
    {
     "name": "stdout",
     "output_type": "stream",
     "text": [
      "2\n",
      "3\n",
      "5\n",
      "7\n",
      "11\n",
      "13\n",
      "17\n",
      "19\n",
      "23\n",
      "29\n",
      "31\n",
      "37\n",
      "41\n",
      "43\n",
      "47\n",
      "53\n",
      "59\n",
      "61\n",
      "67\n",
      "71\n"
     ]
    }
   ],
   "source": [
    "def primenum():\n",
    "    yield 2\n",
    "    yield 3\n",
    "    for i in range(5,1000):\n",
    "        count = 0\n",
    "        for j in range(1,i//2):\n",
    "            if i%j==0:\n",
    "                count+=1\n",
    "        if count == 1:\n",
    "            yield i\n",
    "primes = primenum()\n",
    "for i in range(20):\n",
    "    print(next(primes))"
   ]
  },
  {
   "cell_type": "code",
   "execution_count": null,
   "id": "1d6a3c44-5bd5-4b1e-968c-bfbfe7b581e0",
   "metadata": {},
   "outputs": [],
   "source": []
  },
  {
   "cell_type": "code",
   "execution_count": null,
   "id": "158e88c1-ec3e-40df-9162-926760a18000",
   "metadata": {},
   "outputs": [],
   "source": []
  },
  {
   "cell_type": "code",
   "execution_count": null,
   "id": "49e8fa98-db12-4976-94f2-581a53464d9e",
   "metadata": {},
   "outputs": [],
   "source": []
  }
 ],
 "metadata": {
  "kernelspec": {
   "display_name": "Python 3 (ipykernel)",
   "language": "python",
   "name": "python3"
  },
  "language_info": {
   "codemirror_mode": {
    "name": "ipython",
    "version": 3
   },
   "file_extension": ".py",
   "mimetype": "text/x-python",
   "name": "python",
   "nbconvert_exporter": "python",
   "pygments_lexer": "ipython3",
   "version": "3.10.8"
  }
 },
 "nbformat": 4,
 "nbformat_minor": 5
}
